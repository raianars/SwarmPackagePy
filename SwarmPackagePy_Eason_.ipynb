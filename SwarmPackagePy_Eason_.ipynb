{
  "nbformat": 4,
  "nbformat_minor": 0,
  "metadata": {
    "colab": {
      "name": "SwarmPackagePy_Eason .ipynb",
      "version": "0.3.2",
      "provenance": [],
      "collapsed_sections": [],
      "include_colab_link": true
    },
    "kernelspec": {
      "name": "python3",
      "display_name": "Python 3"
    }
  },
  "cells": [
    {
      "cell_type": "markdown",
      "metadata": {
        "id": "view-in-github",
        "colab_type": "text"
      },
      "source": [
        "<a href=\"https://colab.research.google.com/github/raianars/SwarmPackagePy/blob/master/SwarmPackagePy_Eason_.ipynb\" target=\"_parent\"><img src=\"https://colab.research.google.com/assets/colab-badge.svg\" alt=\"Open In Colab\"/></a>"
      ]
    },
    {
      "metadata": {
        "id": "CE7_TCI9jQKX",
        "colab_type": "code",
        "outputId": "1b0f1ddc-0a3a-4ace-bbe7-ae1e219c42fe",
        "colab": {
          "base_uri": "https://localhost:8080/",
          "height": 54
        }
      },
      "cell_type": "code",
      "source": [
        "'''\n",
        "############################### Importar bibliotecas e iniciar a contagem do tempo\n",
        "import time\n",
        "import pandas as pd\n",
        "import matplotlib.pyplot as plt\n",
        "\n",
        "start_time = time.time() # Instante inicial\n",
        "'''"
      ],
      "execution_count": 1,
      "outputs": [
        {
          "output_type": "execute_result",
          "data": {
            "text/plain": [
              "'\\n############################### Importar bibliotecas e iniciar a contagem do tempo\\nimport time\\nimport pandas as pd\\nimport matplotlib.pyplot as plt\\n\\nstart_time = time.time() # Instante inicial\\n'"
            ]
          },
          "metadata": {
            "tags": []
          },
          "execution_count": 1
        }
      ]
    },
    {
      "metadata": {
        "id": "CFt2V0LYjUbk",
        "colab_type": "code",
        "outputId": "21de856e-36e4-47b3-800d-cf2a9443927e",
        "colab": {
          "base_uri": "https://localhost:8080/",
          "height": 87
        }
      },
      "cell_type": "code",
      "source": [
        "############################### Importar Swarm Package\n",
        "\n",
        "!git clone https://github.com/SISDevelop/SwarmPackagePy.git #clonar do Github"
      ],
      "execution_count": 2,
      "outputs": [
        {
          "output_type": "stream",
          "text": [
            "Cloning into 'SwarmPackagePy'...\n",
            "remote: Enumerating objects: 60, done.\u001b[K\n",
            "remote: Total 60 (delta 0), reused 0 (delta 0), pack-reused 60\u001b[K\n",
            "Unpacking objects: 100% (60/60), done.\n"
          ],
          "name": "stdout"
        }
      ]
    },
    {
      "metadata": {
        "id": "oXVHOct5kwLP",
        "colab_type": "code",
        "outputId": "ad1a461e-9e60-4eba-a750-23c27c784b46",
        "colab": {
          "base_uri": "https://localhost:8080/",
          "height": 34
        }
      },
      "cell_type": "code",
      "source": [
        "%cd /content/SwarmPackagePy/"
      ],
      "execution_count": 3,
      "outputs": [
        {
          "output_type": "stream",
          "text": [
            "/content/SwarmPackagePy\n"
          ],
          "name": "stdout"
        }
      ]
    },
    {
      "metadata": {
        "id": "deVU139QjkwI",
        "colab_type": "code",
        "outputId": "e05bfaf0-8131-4278-da71-eeb7e6e9c114",
        "colab": {
          "base_uri": "https://localhost:8080/",
          "height": 34
        }
      },
      "cell_type": "code",
      "source": [
        "!ls"
      ],
      "execution_count": 4,
      "outputs": [
        {
          "output_type": "stream",
          "text": [
            "DESCRIPTION.rst  example.py  README.md\tsetup.py  SwarmPackagePy  test.py\n"
          ],
          "name": "stdout"
        }
      ]
    },
    {
      "metadata": {
        "id": "pHErf2SNk77Q",
        "colab_type": "code",
        "colab": {}
      },
      "cell_type": "code",
      "source": [
        "%load setup.py"
      ],
      "execution_count": 0,
      "outputs": []
    },
    {
      "metadata": {
        "id": "-7KkszSZkc-Q",
        "colab_type": "code",
        "colab": {}
      },
      "cell_type": "code",
      "source": [
        "import SwarmPackagePy as sw\n",
        "from SwarmPackagePy import testFunctions as tf\n",
        "from SwarmPackagePy import animation, animation3D"
      ],
      "execution_count": 0,
      "outputs": []
    },
    {
      "metadata": {
        "id": "ImxQNnAdjpvP",
        "colab_type": "code",
        "colab": {}
      },
      "cell_type": "code",
      "source": [
        "#%cd /content/SwarmPackagePy/SwarmPackagePy"
      ],
      "execution_count": 0,
      "outputs": []
    },
    {
      "metadata": {
        "id": "TcILxbF-ljDm",
        "colab_type": "code",
        "colab": {}
      },
      "cell_type": "code",
      "source": [
        "############################### Dados de entrada e Parâmetros\n",
        "\n",
        "n=50                       #number of agents\n",
        "#function=tf.bukin_function\n",
        "function=tf.easom_function  #test function\n",
        "lb=-50                      #lower limits for plot axes\n",
        "ub=50                       #upper limits for plot axes\n",
        "dimension=2                 #space dimension\n",
        "iteration=100                #number of iterations"
      ],
      "execution_count": 0,
      "outputs": []
    },
    {
      "metadata": {
        "id": "4LswDKlplzqz",
        "colab_type": "code",
        "outputId": "69d19bda-1aa9-4c70-bb8e-f4991bf61471",
        "colab": {
          "base_uri": "https://localhost:8080/",
          "height": 757
        }
      },
      "cell_type": "code",
      "source": [
        "############################## SWARM MÉTODOS\n",
        "#'''\n",
        "############################## RESOLUÇÃO MÉTODO 1 - WHALE\n",
        "\n",
        "# Parâmetros M1\n",
        "n1=n #populatation\n",
        "ro0=2\n",
        "eta=0.005\n",
        "\n",
        "Whale= sw.wsa(n1,function,lb, ub, dimension, iteration,ro0,eta)\n",
        "best_agent=Whale.get_Gbest()\n",
        "best_value = function(best_agent)\n",
        "agents=Whale.get_agents()    #returns a history of all agents of the algorithm\n",
        "p=agents[iteration] #final method population\n",
        "\n",
        "print('Whale - ', ' População=',n1,' Iterações=', iteration)\n",
        "print('best agent ', best_agent)\n",
        "print('best FO value: ', best_value,'\\n')\n",
        "\n",
        "\n",
        "############################## RESOLUÇÃO MÉTODO 2 - WOLF\n",
        "\n",
        "n2=n #populatation\n",
        "\n",
        "Wolf = sw.gwo(n2,function,lb, ub, dimension, iteration)\n",
        "\n",
        "best_agent=Wolf.get_Gbest()\n",
        "best_value = function(best_agent)\n",
        "agents=Wolf.get_agents()    #returns a history of all agents of the algorithm\n",
        "p=agents[iteration] #final method population\n",
        "\n",
        "print('Wolf - ',' População=',n2,' Iterações=', iteration)\n",
        "print('best agent ', best_agent)\n",
        "print('best FO value: ', best_value,'\\n')\n",
        "\n",
        "\n",
        "############################## RESOLUÇÃO MÉTODO 3 - FIREFLY\n",
        "\n",
        "M3_name= 'Firefly'\n",
        "M3=sw.fa\n",
        "n3=n\n",
        "\n",
        "M3 = M3(n3,function,lb, ub, dimension, iteration)\n",
        "\n",
        "best_agent=M3.get_Gbest()\n",
        "best_value = function(best_agent)\n",
        "agents=M3.get_agents() # returns a history of all agents of the algorithm\n",
        "p=agents[iteration] # final method population\n",
        "\n",
        "print(M3_name,' - População=',n3,' Iterações=', iteration)\n",
        "print('best agent ', best_agent)\n",
        "print('best FO value: ', best_value,'\\n')\n",
        "#print('Population=',agents[iteration]) #final method population\n",
        "\n",
        "\n",
        "############################## RESOLUÇÃO MÉTODO 4 BAT\n",
        "\n",
        "M4_name= 'Bat'\n",
        "M4=sw.ba\n",
        "n4=n\n",
        "\n",
        "M4 = M4(n4,function,lb, ub, dimension, iteration,r0=0.9,V0=0.5, fmin=0, fmax=0.02, alpha=0.9, csi=0.9)\n",
        "\n",
        "best_agent=M4.get_Gbest()\n",
        "best_value = function(best_agent)\n",
        "agents=M4.get_agents() # returns a history of all agents of the algorithm\n",
        "p=agents[iteration] # final method population\n",
        "\n",
        "print(M4_name,' - População=',n4,' Iterações=', iteration)\n",
        "print('best agent ', best_agent)\n",
        "print('best FO value: ', best_value,'\\n')\n",
        "#print('Population=',agents[iteration]) #final method population\n",
        "\n",
        "#'''\n",
        "############################## RESOLUÇÃO MÉTODO 5 - CAT\n",
        "\n",
        "M5_name= 'Cat'\n",
        "M5=sw.ca\n",
        "n5=n\n",
        "\n",
        "M5 = M5(n5,function,lb, ub, dimension, iteration, mr=10, smp=2,\n",
        "                 spc=False, cdc=1, srd=0.1, w=0.1, c=1.05, csi=0.6)\n",
        "\n",
        "best_agent=M5.get_Gbest()\n",
        "best_value = function(best_agent)\n",
        "agents=M5.get_agents() # returns a history of all agents of the algorithm\n",
        "p=agents[iteration] # final method population\n",
        "\n",
        "print(M5_name,' - População=',n5,' Iterações=', iteration)\n",
        "print('best agent ', best_agent)\n",
        "print('best FO value: ', best_value,'\\n')\n",
        "#print('Population=',agents[iteration]) #final method population\n",
        "\n",
        "\n",
        "############################## RESOLUÇÃO MÉTODO 6 - Chicken\n",
        "\n",
        "M6_name= 'Chicken'\n",
        "M6=sw.chso\n",
        "n6=n\n",
        "\n",
        "M6 = M6(n6,function,lb, ub, dimension, iteration, G=5, FL=0.5)\n",
        "\n",
        "best_agent=M6.get_Gbest()\n",
        "best_value = function(best_agent)\n",
        "agents=M6.get_agents() # returns a history of all agents of the algorithm\n",
        "p=agents[iteration] # final method population\n",
        "\n",
        "print(M6_name,' - População=',n6,' Iterações=', iteration)\n",
        "print('best agent ', best_agent)\n",
        "print('best FO value: ', best_value,'\\n')\n",
        "#print('Population=',agents[iteration]) #final method population\n",
        "\n",
        "\n",
        "############################## RESOLUÇÃO MÉTODO 7 -  Cuckoo\n",
        "\n",
        "M7_name= 'Cuckoo'\n",
        "M7=sw.cso\n",
        "n7=n\n",
        "\n",
        "M7 = M7(n7,function,lb, ub, dimension, iteration, pa=0.25, nest=100)\n",
        "\n",
        "best_agent=M7.get_Gbest()\n",
        "best_value = function(best_agent)\n",
        "agents=M7.get_agents() # returns a history of all agents of the algorithm\n",
        "p=agents[iteration] # final method population\n",
        "\n",
        "print(M7_name,' - População=',n7,' Iterações=', iteration)\n",
        "print('best agent ', best_agent)\n",
        "print('best FO value: ', best_value,'\\n')\n",
        "#print('Population=',agents[iteration]) #final method population\n",
        "\n",
        "\n",
        "############################## RESOLUÇÃO MÉTODO 8 - Particle Swarm Optimization\n",
        "\n",
        "M8_name= 'PSO'\n",
        "M8=sw.pso\n",
        "n8=n\n",
        "\n",
        "M8 = M8(n8, function, lb, ub, dimension, iteration, w=0.5, c1=1, c2=1)\n",
        "\n",
        "best_agent=M8.get_Gbest()\n",
        "best_value = function(best_agent)\n",
        "agents=M8.get_agents() # returns a history of all agents of the algorithm\n",
        "p=agents[iteration] # final method population\n",
        "\n",
        "print(M8_name,' - População=',n8,' Iterações=', iteration)\n",
        "print('best agent ', best_agent)\n",
        "print('best FO value: ', best_value,'\\n')\n",
        "#print('Population=',agents[iteration]) #final method population\n",
        "\n",
        "\n",
        "############################## RESOLUÇÃO MÉTODO 9 - Social Spider Optimization\n",
        "\n",
        "M9_name= 'Spider'\n",
        "M9=sw.ssa\n",
        "n9=n\n",
        "\n",
        "M9 = M9(n9, function, lb, ub, dimension, iteration, pf=0.4)\n",
        "\n",
        "best_agent=M9.get_Gbest()\n",
        "best_value = function(best_agent)\n",
        "agents=M9.get_agents() # returns a history of all agents of the algorithm\n",
        "#p=agents[iteration] # final method population\n",
        "\n",
        "print(M9_name,' - População=',n9,' Iterações=', iteration)\n",
        "print('best agent ', best_agent)\n",
        "print('best FO value: ', best_value,'\\n')\n",
        "#print('Population=',agents[iteration]) #final method population\n",
        "\n",
        "#'''\n",
        "############################## RESOLUÇÃO MÉTODO 10 - Bacteria Foraging Optimization\n",
        "\n",
        "M10_name= 'Bacteria'\n",
        "M10=sw.bfo\n",
        "n10=n\n",
        "\n",
        "M10 = M10(n10, function, lb, ub, dimension, iteration)\n",
        "\n",
        "best_agent=M6.get_Gbest()\n",
        "best_value = function(best_agent)\n",
        "agents=M10.get_agents() # returns a history of all agents of the algorithm\n",
        "p=agents[iteration] # final method population\n",
        "\n",
        "print(M10_name,' - População=',n10,' Iterações=', iteration)\n",
        "print('best agent ', best_agent)\n",
        "print('best FO value: ', best_value,'\\n')\n",
        "#print('Population=',agents[iteration]) #final method population\n",
        "\n",
        "'''\n",
        "############################## RESOLUÇÃO MÉTODO 6 - Chicken\n",
        "\n",
        "M6_name= 'Chicken'\n",
        "M6=sw.chso\n",
        "n6=n\n",
        "\n",
        "M6 = M6(n6, function, lb, ub, dimension, iteration)\n",
        "\n",
        "best_agent=M6.get_Gbest()\n",
        "best_value = function(best_agent)\n",
        "agents=M6.get_agents() # returns a history of all agents of the algorithm\n",
        "p=agents[iteration] # final method population\n",
        "\n",
        "print(M6_name,' - População=',n6,' Iterações=', iteration)\n",
        "print('best agent ', best_agent)\n",
        "print('best FO value: ', best_value,'\\n')\n",
        "#print('Population=',agents[iteration]) #final method population\n",
        "'''"
      ],
      "execution_count": 9,
      "outputs": [
        {
          "output_type": "stream",
          "text": [
            "Whale -   População= 50  Iterações= 100\n",
            "best agent  [3.141592725198381, 3.141592664063832]\n",
            "best FO value:  -0.9999999999999922 \n",
            "\n",
            "Wolf -   População= 50  Iterações= 100\n",
            "best agent  [3.1418015664882275, 3.1414764027383755]\n",
            "best FO value:  -0.9999999142617141 \n",
            "\n",
            "Firefly  - População= 50  Iterações= 100\n",
            "best agent  [3.172131799606227, 3.166807018693313]\n",
            "best FO value:  -0.9976500537949544 \n",
            "\n",
            "Bat  - População= 50  Iterações= 100\n",
            "best agent  [2.9685591244619434, 3.1310399174943937]\n",
            "best FO value:  -0.9558509865226347 \n",
            "\n",
            "Cat  - População= 50  Iterações= 100\n",
            "best agent  [3.1430381886250345, 3.139072592245874]\n",
            "best FO value:  -0.9999873396553451 \n",
            "\n",
            "Chicken  - População= 50  Iterações= 100\n",
            "best agent  [3.1407202854419545, 3.1412574089517378]\n",
            "best FO value:  -0.9999986898780799 \n",
            "\n",
            "Cuckoo  - População= 50  Iterações= 100\n",
            "best agent  [3.0431637740274375, 3.0206082972621777]\n",
            "best FO value:  -0.964144639816557 \n",
            "\n",
            "PSO  - População= 50  Iterações= 100\n",
            "best agent  [3.141592647355373, 3.1415926537337664]\n",
            "best FO value:  -1.0 \n",
            "\n",
            "Spider  - População= 50  Iterações= 100\n",
            "best agent  [3.1043250916997587, 3.1530330922794936]\n",
            "best FO value:  -0.9977228023135792 \n",
            "\n",
            "Bacteria  - População= 50  Iterações= 100\n",
            "best agent  [3.1407202854419545, 3.1412574089517378]\n",
            "best FO value:  -0.9999986898780799 \n",
            "\n"
          ],
          "name": "stdout"
        },
        {
          "output_type": "execute_result",
          "data": {
            "text/plain": [
              "\"\\n############################## RESOLUÇÃO MÉTODO 6 - Chicken\\n\\nM6_name= 'Chicken'\\nM6=sw.chso\\nn6=n\\n\\nM6 = M6(n6, function, lb, ub, dimension, iteration)\\n\\nbest_agent=M6.get_Gbest()\\nbest_value = function(best_agent)\\nagents=M6.get_agents() # returns a history of all agents of the algorithm\\np=agents[iteration] # final method population\\n\\nprint(M6_name,' - População=',n6,' Iterações=', iteration)\\nprint('best agent ', best_agent)\\nprint('best FO value: ', best_value,'\\n')\\n#print('Population=',agents[iteration]) #final method population\\n\""
            ]
          },
          "metadata": {
            "tags": []
          },
          "execution_count": 9
        }
      ]
    },
    {
      "metadata": {
        "id": "r1M_iLxVmESp",
        "colab_type": "text"
      },
      "cell_type": "markdown",
      "source": [
        "*Ótimo Eason function =\n",
        "best agent  [pi,pi]\n",
        "best FO value:  -1"
      ]
    }
  ]
}