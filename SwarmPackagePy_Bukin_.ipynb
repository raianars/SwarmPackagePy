{
  "nbformat": 4,
  "nbformat_minor": 0,
  "metadata": {
    "colab": {
      "name": "SwarmPackagePy_Bukin .ipynb",
      "version": "0.3.2",
      "provenance": [],
      "collapsed_sections": [],
      "include_colab_link": true
    },
    "kernelspec": {
      "name": "python3",
      "display_name": "Python 3"
    },
    "accelerator": "GPU"
  },
  "cells": [
    {
      "cell_type": "markdown",
      "metadata": {
        "id": "view-in-github",
        "colab_type": "text"
      },
      "source": [
        "<a href=\"https://colab.research.google.com/github/raianars/SwarmPackagePy/blob/master/SwarmPackagePy_Bukin_.ipynb\" target=\"_parent\"><img src=\"https://colab.research.google.com/assets/colab-badge.svg\" alt=\"Open In Colab\"/></a>"
      ]
    },
    {
      "metadata": {
        "id": "CE7_TCI9jQKX",
        "colab_type": "code",
        "outputId": "2250f86c-fc0a-437c-d078-6b7331c8080b",
        "colab": {
          "base_uri": "https://localhost:8080/",
          "height": 54
        }
      },
      "cell_type": "code",
      "source": [
        "'''\n",
        "############################### Importar bibliotecas e iniciar a contagem do tempo\n",
        "import time\n",
        "import pandas as pd\n",
        "import matplotlib.pyplot as plt\n",
        "\n",
        "start_time = time.time() # Instante inicial\n",
        "'''"
      ],
      "execution_count": 10,
      "outputs": [
        {
          "output_type": "execute_result",
          "data": {
            "text/plain": [
              "'\\n############################### Importar bibliotecas e iniciar a contagem do tempo\\nimport time\\nimport pandas as pd\\nimport matplotlib.pyplot as plt\\n\\nstart_time = time.time() # Instante inicial\\n'"
            ]
          },
          "metadata": {
            "tags": []
          },
          "execution_count": 10
        }
      ]
    },
    {
      "metadata": {
        "id": "CFt2V0LYjUbk",
        "colab_type": "code",
        "outputId": "375ccd52-6bdb-4d44-8ca3-5259c09eac1d",
        "colab": {
          "base_uri": "https://localhost:8080/",
          "height": 34
        }
      },
      "cell_type": "code",
      "source": [
        "############################### Importar Swarm Package\n",
        "\n",
        "!git clone https://github.com/SISDevelop/SwarmPackagePy.git #clonar do Github"
      ],
      "execution_count": 11,
      "outputs": [
        {
          "output_type": "stream",
          "text": [
            "fatal: destination path 'SwarmPackagePy' already exists and is not an empty directory.\n"
          ],
          "name": "stdout"
        }
      ]
    },
    {
      "metadata": {
        "id": "oXVHOct5kwLP",
        "colab_type": "code",
        "outputId": "a2668c0c-99e0-4f8a-cfe5-be8f6c327103",
        "colab": {
          "base_uri": "https://localhost:8080/",
          "height": 34
        }
      },
      "cell_type": "code",
      "source": [
        "%cd /content/SwarmPackagePy/"
      ],
      "execution_count": 12,
      "outputs": [
        {
          "output_type": "stream",
          "text": [
            "/content/SwarmPackagePy\n"
          ],
          "name": "stdout"
        }
      ]
    },
    {
      "metadata": {
        "id": "deVU139QjkwI",
        "colab_type": "code",
        "outputId": "4f2aa9c7-900b-430b-997d-b7709f218b35",
        "colab": {
          "base_uri": "https://localhost:8080/",
          "height": 34
        }
      },
      "cell_type": "code",
      "source": [
        "!ls"
      ],
      "execution_count": 13,
      "outputs": [
        {
          "output_type": "stream",
          "text": [
            "DESCRIPTION.rst  example.py  README.md\tsetup.py  SwarmPackagePy  test.py\n"
          ],
          "name": "stdout"
        }
      ]
    },
    {
      "metadata": {
        "id": "pHErf2SNk77Q",
        "colab_type": "code",
        "colab": {}
      },
      "cell_type": "code",
      "source": [
        "%load setup.py"
      ],
      "execution_count": 0,
      "outputs": []
    },
    {
      "metadata": {
        "id": "-7KkszSZkc-Q",
        "colab_type": "code",
        "colab": {}
      },
      "cell_type": "code",
      "source": [
        "import SwarmPackagePy as sw\n",
        "from SwarmPackagePy import testFunctions as tf\n",
        "from SwarmPackagePy import animation, animation3D"
      ],
      "execution_count": 0,
      "outputs": []
    },
    {
      "metadata": {
        "id": "ImxQNnAdjpvP",
        "colab_type": "code",
        "colab": {}
      },
      "cell_type": "code",
      "source": [
        "#%cd /content/SwarmPackagePy/SwarmPackagePy"
      ],
      "execution_count": 0,
      "outputs": []
    },
    {
      "metadata": {
        "id": "TcILxbF-ljDm",
        "colab_type": "code",
        "colab": {}
      },
      "cell_type": "code",
      "source": [
        "############################### Dados de entrada e Parâmetros\n",
        "\n",
        "n=200                     #number of agents\n",
        "function=tf.bukin_function\n",
        "#function=tf.easom_function  #test function\n",
        "lb=-50                      #lower limits for plot axes\n",
        "ub=50                       #upper limits for plot axes\n",
        "dimension=2                 #space dimension\n",
        "iteration=400                #number of iterations"
      ],
      "execution_count": 0,
      "outputs": []
    },
    {
      "metadata": {
        "id": "4LswDKlplzqz",
        "colab_type": "code",
        "outputId": "199cc3bd-0479-4622-c1a7-e1f02961e25c",
        "colab": {
          "base_uri": "https://localhost:8080/",
          "height": 720
        }
      },
      "cell_type": "code",
      "source": [
        "############################## SWARM MÉTODOS\n",
        "#'''\n",
        "############################## RESOLUÇÃO MÉTODO 1 - WHALE\n",
        "\n",
        "# Parâmetros M1\n",
        "n1=n #populatation\n",
        "ro0=2\n",
        "eta=0.005\n",
        "\n",
        "Whale= sw.wsa(n1,function,lb, ub, dimension, iteration,ro0,eta)\n",
        "best_agent=Whale.get_Gbest()\n",
        "best_value = function(best_agent)\n",
        "agents=Whale.get_agents()    #returns a history of all agents of the algorithm\n",
        "p=agents[iteration] #final method population\n",
        "\n",
        "print('Whale - ', ' População=',n1,' Iterações=', iteration)\n",
        "print('best agent ', best_agent)\n",
        "print('best FO value: ', best_value,'\\n')\n",
        "\n",
        "\n",
        "############################## RESOLUÇÃO MÉTODO 2 - WOLF\n",
        "\n",
        "n2=n #populatation\n",
        "\n",
        "Wolf = sw.gwo(n2,function,lb, ub, dimension, iteration)\n",
        "\n",
        "best_agent=Wolf.get_Gbest()\n",
        "best_value = function(best_agent)\n",
        "agents=Wolf.get_agents()    #returns a history of all agents of the algorithm\n",
        "p=agents[iteration] #final method population\n",
        "\n",
        "print('Wolf - ',' População=',n2,' Iterações=', iteration)\n",
        "print('best agent ', best_agent)\n",
        "print('best FO value: ', best_value,'\\n')\n",
        "\n",
        "\n",
        "############################## RESOLUÇÃO MÉTODO 3 - FIREFLY\n",
        "\n",
        "M3_name= 'Firefly'\n",
        "M3=sw.fa\n",
        "n3=n\n",
        "\n",
        "M3 = M3(n3,function,lb, ub, dimension, iteration)\n",
        "\n",
        "best_agent=M3.get_Gbest()\n",
        "best_value = function(best_agent)\n",
        "agents=M3.get_agents() # returns a history of all agents of the algorithm\n",
        "p=agents[iteration] # final method population\n",
        "\n",
        "print(M3_name,' - População=',n3,' Iterações=', iteration)\n",
        "print('best agent ', best_agent)\n",
        "print('best FO value: ', best_value,'\\n')\n",
        "#print('Population=',agents[iteration]) #final method population\n",
        "\n",
        "\n",
        "############################## RESOLUÇÃO MÉTODO 4 BAT\n",
        "\n",
        "M4_name= 'Bat'\n",
        "M4=sw.ba\n",
        "n4=n\n",
        "\n",
        "M4 = M4(n4,function,lb, ub, dimension, iteration,r0=0.9,V0=0.5, fmin=0, fmax=0.02, alpha=0.9, csi=0.9)\n",
        "\n",
        "best_agent=M4.get_Gbest()\n",
        "best_value = function(best_agent)\n",
        "agents=M4.get_agents() # returns a history of all agents of the algorithm\n",
        "p=agents[iteration] # final method population\n",
        "\n",
        "print(M4_name,' - População=',n4,' Iterações=', iteration)\n",
        "print('best agent ', best_agent)\n",
        "print('best FO value: ', best_value,'\\n')\n",
        "#print('Population=',agents[iteration]) #final method population\n",
        "\n",
        "#'''\n",
        "############################## RESOLUÇÃO MÉTODO 5 - CAT\n",
        "\n",
        "M5_name= 'Cat'\n",
        "M5=sw.ca\n",
        "n5=n\n",
        "\n",
        "M5 = M5(n5,function,lb, ub, dimension, iteration, mr=10, smp=2,\n",
        "                 spc=False, cdc=1, srd=0.1, w=0.1, c=1.05, csi=0.6)\n",
        "\n",
        "best_agent=M5.get_Gbest()\n",
        "best_value = function(best_agent)\n",
        "agents=M5.get_agents() # returns a history of all agents of the algorithm\n",
        "p=agents[iteration] # final method population\n",
        "\n",
        "print(M5_name,' - População=',n5,' Iterações=', iteration)\n",
        "print('best agent ', best_agent)\n",
        "print('best FO value: ', best_value,'\\n')\n",
        "#print('Population=',agents[iteration]) #final method population\n",
        "\n",
        "\n",
        "############################## RESOLUÇÃO MÉTODO 6 - Chicken\n",
        "\n",
        "M6_name= 'Chicken'\n",
        "M6=sw.chso\n",
        "n6=n\n",
        "\n",
        "M6 = M6(n6,function,lb, ub, dimension, iteration, G=5, FL=0.5)\n",
        "\n",
        "best_agent=M6.get_Gbest()\n",
        "best_value = function(best_agent)\n",
        "agents=M6.get_agents() # returns a history of all agents of the algorithm\n",
        "p=agents[iteration] # final method population\n",
        "\n",
        "print(M6_name,' - População=',n6,' Iterações=', iteration)\n",
        "print('best agent ', best_agent)\n",
        "print('best FO value: ', best_value,'\\n')\n",
        "#print('Population=',agents[iteration]) #final method population\n",
        "\n",
        "\n",
        "############################## RESOLUÇÃO MÉTODO 7 -  Cuckoo\n",
        "\n",
        "M7_name= 'Cuckoo'\n",
        "M7=sw.cso\n",
        "n7=n\n",
        "\n",
        "M7 = M7(n7,function,lb, ub, dimension, iteration, pa=0.25, nest=100)\n",
        "\n",
        "best_agent=M7.get_Gbest()\n",
        "best_value = function(best_agent)\n",
        "agents=M7.get_agents() # returns a history of all agents of the algorithm\n",
        "p=agents[iteration] # final method population\n",
        "\n",
        "print(M7_name,' - População=',n7,' Iterações=', iteration)\n",
        "print('best agent ', best_agent)\n",
        "print('best FO value: ', best_value,'\\n')\n",
        "#print('Population=',agents[iteration]) #final method population\n",
        "\n",
        "\n",
        "############################## RESOLUÇÃO MÉTODO 8 - Particle Swarm Optimization\n",
        "\n",
        "M8_name= 'PSO'\n",
        "M8=sw.pso\n",
        "n8=n\n",
        "\n",
        "M8 = M8(n8, function, lb, ub, dimension, iteration, w=0.5, c1=1, c2=1)\n",
        "\n",
        "best_agent=M8.get_Gbest()\n",
        "best_value = function(best_agent)\n",
        "agents=M8.get_agents() # returns a history of all agents of the algorithm\n",
        "p=agents[iteration] # final method population\n",
        "\n",
        "print(M8_name,' - População=',n8,' Iterações=', iteration)\n",
        "print('best agent ', best_agent)\n",
        "print('best FO value: ', best_value,'\\n')\n",
        "#print('Population=',agents[iteration]) #final method population\n",
        "\n",
        "\n",
        "############################## RESOLUÇÃO MÉTODO 9 - Social Spider Optimization\n",
        "\n",
        "M9_name= 'Spider'\n",
        "M9=sw.ssa\n",
        "n9=n\n",
        "\n",
        "M9 = M9(n9, function, lb, ub, dimension, iteration, pf=0.4)\n",
        "\n",
        "best_agent=M9.get_Gbest()\n",
        "best_value = function(best_agent)\n",
        "agents=M9.get_agents() # returns a history of all agents of the algorithm\n",
        "#p=agents[iteration] # final method population\n",
        "\n",
        "print(M9_name,' - População=',n9,' Iterações=', iteration)\n",
        "print('best agent ', best_agent)\n",
        "print('best FO value: ', best_value,'\\n')\n",
        "#print('Population=',agents[iteration]) #final method population\n",
        "\n",
        "#'''\n",
        "############################## RESOLUÇÃO MÉTODO 10 - Bacteria Foraging Optimization\n",
        "\n",
        "M10_name= 'Bacteria'\n",
        "M10=sw.bfo\n",
        "n10=n\n",
        "\n",
        "M10 = M10(n10, function, lb, ub, dimension, iteration)\n",
        "\n",
        "best_agent=M6.get_Gbest()\n",
        "best_value = function(best_agent)\n",
        "agents=M10.get_agents() # returns a history of all agents of the algorithm\n",
        "p=agents[iteration] # final method population\n",
        "\n",
        "print(M10_name,' - População=',n10,' Iterações=', iteration)\n",
        "print('best agent ', best_agent)\n",
        "print('best FO value: ', best_value,'\\n')\n",
        "#print('Population=',agents[iteration]) #final method population\n",
        "\n"
      ],
      "execution_count": 18,
      "outputs": [
        {
          "output_type": "stream",
          "text": [
            "Whale -   População= 200  Iterações= 400\n",
            "best agent  [-8.432084748778019, 0.7110005321057488]\n",
            "best FO value:  0.015679152512219813 \n",
            "\n",
            "Wolf -   População= 200  Iterações= 400\n",
            "best agent  [-3.0480262733519138e-05, 9.29050586910334e-12]\n",
            "best FO value:  0.10000034099966273 \n",
            "\n",
            "Firefly  - População= 200  Iterações= 400\n",
            "best agent  [-2.406443324502115, 0.057323813602247906]\n",
            "best FO value:  2.496433734818751 \n",
            "\n",
            "Bat  - População= 200  Iterações= 400\n",
            "best agent  [-50.0, 24.9987455390223]\n",
            "best FO value:  3.9418370624601784 \n",
            "\n",
            "Cat  - População= 200  Iterações= 400\n",
            "best agent  [19.597586817314074, 3.8406058120928668]\n",
            "best FO value:  0.990803391785982 \n",
            "\n",
            "Chicken  - População= 200  Iterações= 400\n",
            "best agent  [-3.903544298376779e-30, -2.6297490097512794e-69]\n",
            "best FO value:  0.1 \n",
            "\n",
            "Cuckoo  - População= 200  Iterações= 400\n",
            "best agent  [-37.49974357048333, 14.062305111787506]\n",
            "best FO value:  0.43520768988660175 \n",
            "\n",
            "PSO  - População= 200  Iterações= 400\n",
            "best agent  [50.0, 25.0]\n",
            "best FO value:  0.6 \n",
            "\n",
            "Spider  - População= 200  Iterações= 400\n",
            "best agent  [0.8126883207735033, 0.006602899014389174]\n",
            "best FO value:  0.2394300753772931 \n",
            "\n",
            "Bacteria  - População= 200  Iterações= 400\n",
            "best agent  [-3.903544298376779e-30, -2.6297490097512794e-69]\n",
            "best FO value:  0.1 \n",
            "\n"
          ],
          "name": "stdout"
        }
      ]
    },
    {
      "metadata": {
        "id": "r1M_iLxVmESp",
        "colab_type": "text"
      },
      "cell_type": "markdown",
      "source": [
        "*Ótimo Bukin function =\n",
        "best agent  [-10,1]\n",
        "best FO value:  0\n",
        "![alt text](https://)"
      ]
    }
  ]
}